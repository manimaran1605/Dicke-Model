{
  "nbformat": 4,
  "nbformat_minor": 0,
  "metadata": {
    "colab": {
      "provenance": [],
      "authorship_tag": "ABX9TyOW7XjDBhMu8pvXKLVEMVUF",
      "include_colab_link": true
    },
    "kernelspec": {
      "name": "python3",
      "display_name": "Python 3"
    },
    "language_info": {
      "name": "python"
    }
  },
  "cells": [
    {
      "cell_type": "markdown",
      "metadata": {
        "id": "view-in-github",
        "colab_type": "text"
      },
      "source": [
        "<a href=\"https://colab.research.google.com/github/manimaran1605/Dicke-Model/blob/main/VQE.ipynb\" target=\"_parent\"><img src=\"https://colab.research.google.com/assets/colab-badge.svg\" alt=\"Open In Colab\"/></a>"
      ]
    },
    {
      "cell_type": "code",
      "execution_count": 35,
      "metadata": {
        "colab": {
          "base_uri": "https://localhost:8080/"
        },
        "id": "TcGgwZCYa9kp",
        "outputId": "edd50469-451a-4c40-ef34-7ee6aa11c91e"
      },
      "outputs": [
        {
          "output_type": "stream",
          "name": "stdout",
          "text": [
            "Requirement already satisfied: qutip in /usr/local/lib/python3.10/dist-packages (4.7.5)\n",
            "Requirement already satisfied: numpy>=1.16.6 in /usr/local/lib/python3.10/dist-packages (from qutip) (1.25.2)\n",
            "Requirement already satisfied: scipy>=1.0 in /usr/local/lib/python3.10/dist-packages (from qutip) (1.11.4)\n",
            "Requirement already satisfied: packaging in /usr/local/lib/python3.10/dist-packages (from qutip) (23.2)\n"
          ]
        }
      ],
      "source": [
        "!pip install qutip"
      ]
    },
    {
      "cell_type": "code",
      "source": [
        "from qutip import *\n",
        "import numpy as np\n",
        "import matplotlib.pyplot as plt\n",
        "from mpl_toolkits.mplot3d import Axes3D"
      ],
      "metadata": {
        "id": "HfS6DWOla_QR"
      },
      "execution_count": 67,
      "outputs": []
    },
    {
      "cell_type": "code",
      "source": [
        "sxx = tensor(sigmax(), sigmax())\n",
        "syy = tensor(sigmay(), sigmay())\n",
        "szz = tensor(sigmaz(), sigmaz())\n",
        "II = tensor(qeye(2), qeye(2))"
      ],
      "metadata": {
        "id": "9mek4meubGbK"
      },
      "execution_count": 37,
      "outputs": []
    },
    {
      "cell_type": "code",
      "source": [
        "H = II - 2 * sxx + 3 * syy - 2 * szz"
      ],
      "metadata": {
        "id": "APkdevfibJqA"
      },
      "execution_count": 38,
      "outputs": []
    },
    {
      "cell_type": "code",
      "source": [
        "H.groundstate()"
      ],
      "metadata": {
        "colab": {
          "base_uri": "https://localhost:8080/"
        },
        "id": "0EegOED8bkzD",
        "outputId": "847a16d9-246f-43c8-c3c0-ac4f1d1b4920"
      },
      "execution_count": 39,
      "outputs": [
        {
          "output_type": "execute_result",
          "data": {
            "text/plain": [
              "(-6.000000000000001,\n",
              " Quantum object: dims = [[2, 2], [1, 1]], shape = (4, 1), type = ket\n",
              " Qobj data =\n",
              " [[0.70710678]\n",
              "  [0.        ]\n",
              "  [0.        ]\n",
              "  [0.70710678]])"
            ]
          },
          "metadata": {},
          "execution_count": 39
        }
      ]
    },
    {
      "cell_type": "code",
      "source": [
        "(1/np.sqrt(2))*(tensor(basis(2, 0), basis(2,0)) + tensor(basis(2,1), basis(2,0)))"
      ],
      "metadata": {
        "colab": {
          "base_uri": "https://localhost:8080/",
          "height": 35
        },
        "id": "IGqzo4KzkU6e",
        "outputId": "f05aa899-f153-432d-822a-32c49c3d731f"
      },
      "execution_count": 40,
      "outputs": [
        {
          "output_type": "execute_result",
          "data": {
            "text/plain": [
              "Quantum object: dims = [[2, 2], [1, 1]], shape = (4, 1), type = ket\n",
              "Qobj data =\n",
              "[[0.70710678]\n",
              " [0.        ]\n",
              " [0.70710678]\n",
              " [0.        ]]"
            ],
            "text/latex": "Quantum object: dims = [[2, 2], [1, 1]], shape = (4, 1), type = ket $ \\\\ \\left(\\begin{matrix}0.707\\\\0.0\\\\0.707\\\\0.0\\\\\\end{matrix}\\right)$"
          },
          "metadata": {},
          "execution_count": 40
        }
      ]
    },
    {
      "cell_type": "code",
      "source": [
        "def trial_state(theta):\n",
        "    rot = np.cos(theta/2) * qeye(2) - 1j * np.sin(theta/2) * sigmay()\n",
        "    return (1/np.sqrt(2))*(tensor(rot * basis(2, 0), basis(2,0)) + tensor(rot * basis(2,1), basis(2,1)))\n"
      ],
      "metadata": {
        "id": "yxnr2qmBbm8V"
      },
      "execution_count": 50,
      "outputs": []
    },
    {
      "cell_type": "code",
      "source": [
        "theta_val = np.linspace(0, 2 * np.pi, 100)\n",
        "eval = np.zeros(len(theta_val))\n",
        "i = 0\n",
        "for theta in theta_val:\n",
        "  eval[i] = expect(H, trial_state(theta))\n",
        "  i += 1"
      ],
      "metadata": {
        "id": "rGBI5H2ncHaw"
      },
      "execution_count": 51,
      "outputs": []
    },
    {
      "cell_type": "code",
      "source": [
        "plt.plot(theta_val, eval)"
      ],
      "metadata": {
        "colab": {
          "base_uri": "https://localhost:8080/",
          "height": 448
        },
        "id": "B9nT3kwVck5A",
        "outputId": "76c2428d-50d8-4670-cfaf-a2df30b00b7d"
      },
      "execution_count": 52,
      "outputs": [
        {
          "output_type": "execute_result",
          "data": {
            "text/plain": [
              "[<matplotlib.lines.Line2D at 0x79037d038d00>]"
            ]
          },
          "metadata": {},
          "execution_count": 52
        },
        {
          "output_type": "display_data",
          "data": {
            "text/plain": [
              "<Figure size 640x480 with 1 Axes>"
            ],
            "image/png": "[encoded data removed]"
          },
          "metadata": {}
        }
      ]
    },
    {
      "cell_type": "code",
      "source": [
        "id = np.argmin(eval)\n",
        "eigenvalue = eval[id]\n",
        "\n",
        "print(\"The lowest Eigenvalue is \", eigenvalue)"
      ],
      "metadata": {
        "colab": {
          "base_uri": "https://localhost:8080/"
        },
        "id": "bpWeEXyblE6t",
        "outputId": "942be276-ad4e-4288-8361-7f36b8a47079"
      },
      "execution_count": 53,
      "outputs": [
        {
          "output_type": "stream",
          "name": "stdout",
          "text": [
            "The lowest Eigenvalue is  -5.999999999999999\n"
          ]
        }
      ]
    },
    {
      "cell_type": "code",
      "source": [
        "#how to imporve the vqe?\n",
        "def trial_state2(theta1, theta2):\n",
        "    rot1 = np.cos(theta1/2) * qeye(2) - 1j * np.sin(theta1/2) * sigmay()\n",
        "    rot2 = np.cos(theta2/2) * qeye(2) - 1j * np.sin(theta2/2) * sigmay()\n",
        "    return (1/np.sqrt(2))*(tensor(rot1 * basis(2, 0), rot2 * basis(2,0)) + tensor(rot1 * basis(2,1), rot2 * basis(2,1)))\n"
      ],
      "metadata": {
        "id": "ZpkgVeqAz7mQ"
      },
      "execution_count": 54,
      "outputs": []
    },
    {
      "cell_type": "code",
      "source": [
        "theta_val = np.linspace(0, 2 * np.pi, 100)\n",
        "eval2 = np.zeros([len(theta_val), len(theta_val)])\n",
        "i = 0\n",
        "j = 0\n",
        "for theta1 in theta_val:\n",
        "  for theta2 in theta_val:\n",
        "      eval2[i][j] = expect(H, trial_state2(theta1, theta2))\n",
        "      j += 1\n",
        "  j = 0\n",
        "  i += 1"
      ],
      "metadata": {
        "id": "b_MIubd00YaT"
      },
      "execution_count": 60,
      "outputs": []
    },
    {
      "cell_type": "code",
      "source": [
        "xminimum_value = np.min(eval2)\n",
        "print(\"minimum_value\", minimum_value)\n",
        "\n",
        "#accuracy is improved!"
      ],
      "metadata": {
        "colab": {
          "base_uri": "https://localhost:8080/"
        },
        "id": "Tw_sDksL02X_",
        "outputId": "574c732c-068a-436a-bb36-b126dc9c723d"
      },
      "execution_count": 66,
      "outputs": [
        {
          "output_type": "stream",
          "name": "stdout",
          "text": [
            "minimum_value -6.000000000000001\n"
          ]
        }
      ]
    },
    {
      "cell_type": "code",
      "source": [],
      "metadata": {
        "id": "7PFdCj_b1-Hi"
      },
      "execution_count": null,
      "outputs": []
    }
  ]
}