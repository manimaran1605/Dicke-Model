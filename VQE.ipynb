{
  "nbformat": 4,
  "nbformat_minor": 0,
  "metadata": {
    "colab": {
      "provenance": [],
      "authorship_tag": "ABX9TyOpdXyRHvm6u6aekahUOh2U",
      "include_colab_link": true
    },
    "kernelspec": {
      "name": "python3",
      "display_name": "Python 3"
    },
    "language_info": {
      "name": "python"
    }
  },
  "cells": [
    {
      "cell_type": "markdown",
      "metadata": {
        "id": "view-in-github",
        "colab_type": "text"
      },
      "source": [
        "<a href=\"https://colab.research.google.com/github/manimaran1605/Dicke-Model/blob/main/VQE.ipynb\" target=\"_parent\"><img src=\"https://colab.research.google.com/assets/colab-badge.svg\" alt=\"Open In Colab\"/></a>"
      ]
    },
    {
      "cell_type": "code",
      "execution_count": 1,
      "metadata": {
        "colab": {
          "base_uri": "https://localhost:8080/"
        },
        "id": "TcGgwZCYa9kp",
        "outputId": "10af4c55-c3fd-43b3-ab50-2db44fb19741"
      },
      "outputs": [
        {
          "output_type": "stream",
          "name": "stdout",
          "text": [
            "Collecting qutip\n",
            "  Downloading qutip-4.7.5-cp310-cp310-manylinux_2_17_x86_64.manylinux2014_x86_64.whl (16.3 MB)\n",
            "\u001b[2K     \u001b[90m━━━━━━━━━━━━━━━━━━━━━━━━━━━━━━━━━━━━━━━━\u001b[0m \u001b[32m16.3/16.3 MB\u001b[0m \u001b[31m21.6 MB/s\u001b[0m eta \u001b[36m0:00:00\u001b[0m\n",
            "\u001b[?25hRequirement already satisfied: numpy>=1.16.6 in /usr/local/lib/python3.10/dist-packages (from qutip) (1.25.2)\n",
            "Requirement already satisfied: scipy>=1.0 in /usr/local/lib/python3.10/dist-packages (from qutip) (1.11.4)\n",
            "Requirement already satisfied: packaging in /usr/local/lib/python3.10/dist-packages (from qutip) (23.2)\n",
            "Installing collected packages: qutip\n",
            "Successfully installed qutip-4.7.5\n"
          ]
        }
      ],
      "source": [
        "!pip install qutip"
      ]
    },
    {
      "cell_type": "code",
      "source": [
        "from qutip import *\n",
        "import numpy as np\n",
        "import matplotlib.pyplot as plt"
      ],
      "metadata": {
        "id": "HfS6DWOla_QR",
        "colab": {
          "base_uri": "https://localhost:8080/"
        },
        "outputId": "f2c17aac-0b8b-4b3c-8791-d9ff891bc615"
      },
      "execution_count": 2,
      "outputs": [
        {
          "output_type": "stream",
          "name": "stderr",
          "text": [
            "/usr/local/lib/python3.10/dist-packages/qutip/__init__.py:66: UserWarning: The new version of Cython, (>= 3.0.0) is not supported.\n",
            "  warnings.warn(\n"
          ]
        }
      ]
    },
    {
      "cell_type": "code",
      "source": [
        "sxx = tensor(sigmax(), sigmax())\n",
        "syy = tensor(sigmay(), sigmay())\n",
        "szz = tensor(sigmaz(), sigmaz())\n",
        "II = tensor(qeye(2), qeye(2))"
      ],
      "metadata": {
        "id": "9mek4meubGbK"
      },
      "execution_count": 3,
      "outputs": []
    },
    {
      "cell_type": "code",
      "source": [
        "H = II - 2 * sxx + 3 * syy - 2 * szz"
      ],
      "metadata": {
        "id": "APkdevfibJqA"
      },
      "execution_count": 4,
      "outputs": []
    },
    {
      "cell_type": "code",
      "source": [
        "H.groundstate()"
      ],
      "metadata": {
        "colab": {
          "base_uri": "https://localhost:8080/"
        },
        "id": "0EegOED8bkzD",
        "outputId": "5d577427-d823-4ef7-8260-4d8896872e3f"
      },
      "execution_count": 5,
      "outputs": [
        {
          "output_type": "execute_result",
          "data": {
            "text/plain": [
              "(-6.000000000000001,\n",
              " Quantum object: dims = [[2, 2], [1, 1]], shape = (4, 1), type = ket\n",
              " Qobj data =\n",
              " [[0.70710678]\n",
              "  [0.        ]\n",
              "  [0.        ]\n",
              "  [0.70710678]])"
            ]
          },
          "metadata": {},
          "execution_count": 5
        }
      ]
    },
    {
      "cell_type": "code",
      "source": [
        "(1/np.sqrt(2))*(tensor(basis(2, 0), basis(2,0)) + tensor(basis(2,1), basis(2,0)))"
      ],
      "metadata": {
        "colab": {
          "base_uri": "https://localhost:8080/",
          "height": 35
        },
        "id": "IGqzo4KzkU6e",
        "outputId": "885d670d-195a-4ed0-fd37-4255b6421860"
      },
      "execution_count": 8,
      "outputs": [
        {
          "output_type": "execute_result",
          "data": {
            "text/plain": [
              "Quantum object: dims = [[2, 2], [1, 1]], shape = (4, 1), type = ket\n",
              "Qobj data =\n",
              "[[0.70710678]\n",
              " [0.        ]\n",
              " [0.70710678]\n",
              " [0.        ]]"
            ],
            "text/latex": "Quantum object: dims = [[2, 2], [1, 1]], shape = (4, 1), type = ket $ \\\\ \\left(\\begin{matrix}0.707\\\\0.0\\\\0.707\\\\0.0\\\\\\end{matrix}\\right)$"
          },
          "metadata": {},
          "execution_count": 8
        }
      ]
    },
    {
      "cell_type": "code",
      "source": [
        "def trial_state(theta):\n",
        "    rot = np.cos(theta/2) * qeye(2) - 1j * np.sin(theta/2) * sigmay()\n",
        "    return (1/np.sqrt(2))*(tensor(rot * basis(2, 0), basis(2,0)) + tensor(rot * basis(2,1), basis(2,1)))\n",
        "\n",
        "trial_state(np.pi/2)"
      ],
      "metadata": {
        "id": "yxnr2qmBbm8V",
        "colab": {
          "base_uri": "https://localhost:8080/",
          "height": 35
        },
        "outputId": "def081cb-1ef1-43bf-d1a9-dcbfe72d6833"
      },
      "execution_count": 31,
      "outputs": [
        {
          "output_type": "execute_result",
          "data": {
            "text/plain": [
              "Quantum object: dims = [[2, 2], [1, 1]], shape = (4, 1), type = ket\n",
              "Qobj data =\n",
              "[[ 0.5]\n",
              " [-0.5]\n",
              " [ 0.5]\n",
              " [ 0.5]]"
            ],
            "text/latex": "Quantum object: dims = [[2, 2], [1, 1]], shape = (4, 1), type = ket $ \\\\ \\left(\\begin{matrix}0.500\\\\-0.500\\\\0.500\\\\0.500\\\\\\end{matrix}\\right)$"
          },
          "metadata": {},
          "execution_count": 31
        }
      ]
    },
    {
      "cell_type": "code",
      "source": [
        "theta_val = np.linspace(0, 4 * np.pi, 100)\n",
        "eval = np.zeros(len(theta_val))\n",
        "i = 0\n",
        "for theta in theta_val:\n",
        "  eval[i] = expect(H, trial_state(theta))\n",
        "  i += 1"
      ],
      "metadata": {
        "id": "rGBI5H2ncHaw"
      },
      "execution_count": 32,
      "outputs": []
    },
    {
      "cell_type": "code",
      "source": [
        "plt.plot(theta_val, eval)"
      ],
      "metadata": {
        "colab": {
          "base_uri": "https://localhost:8080/",
          "height": 448
        },
        "id": "B9nT3kwVck5A",
        "outputId": "dd2a5eda-e86f-414d-af4d-90aa88b43959"
      },
      "execution_count": 33,
      "outputs": [
        {
          "output_type": "execute_result",
          "data": {
            "text/plain": [
              "[<matplotlib.lines.Line2D at 0x79037cf53070>]"
            ]
          },
          "metadata": {},
          "execution_count": 33
        },
        {
          "output_type": "display_data",
          "data": {
            "text/plain": [
              "<Figure size 640x480 with 1 Axes>"
            ],
            "image/png": "[encoded data removed]"
          },
          "metadata": {}
        }
      ]
    },
    {
      "cell_type": "code",
      "source": [
        "id = np.argmin(eval)\n",
        "eval[id]"
      ],
      "metadata": {
        "colab": {
          "base_uri": "https://localhost:8080/"
        },
        "id": "bpWeEXyblE6t",
        "outputId": "df22d811-1e17-455f-a2a5-cbf382a256b1"
      },
      "execution_count": 34,
      "outputs": [
        {
          "output_type": "execute_result",
          "data": {
            "text/plain": [
              "-5.999999999999999"
            ]
          },
          "metadata": {},
          "execution_count": 34
        }
      ]
    }
  ]
}