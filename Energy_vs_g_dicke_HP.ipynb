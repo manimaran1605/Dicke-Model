{
 "cells": [
  {
   "cell_type": "code",
   "execution_count": 2,
   "metadata": {},
   "outputs": [],
   "source": [
    "import matplotlib as mpl\n",
    "import time\n",
    "import matplotlib.pyplot as plt\n",
    "from qutip import *\n",
    "from qutip.piqs import *\n",
    "import numpy as np\n",
    "import array\n",
    "from tqdm import tqdm\n",
    "from numpy import diff\n",
    "import array"
   ]
  },
  {
   "cell_type": "code",
   "execution_count": 47,
   "metadata": {},
   "outputs": [
    {
     "name": "stdout",
     "output_type": "stream",
     "text": [
      "0.5\n"
     ]
    }
   ],
   "source": [
    "wz = 1\n",
    "wc = 1\n",
    "\n",
    "N = 30\n",
    "\n",
    "gc = 0.5*np.sqrt(wz*wc)\n",
    "\n",
    "nphot = N\n",
    "\n",
    "a  = tensor(destroy(nphot),qeye(nphot))\n",
    "b = tensor(qeye(nphot), destroy(nphot))\n",
    "\n",
    "print(gc)"
   ]
  },
  {
   "cell_type": "code",
   "execution_count": 48,
   "metadata": {},
   "outputs": [],
   "source": [
    "H0 =  wc * a.dag() * a + wz * b.dag()*b\n",
    "Hint = (a.dag()+a) * (b.dag()+b)"
   ]
  },
  {
   "cell_type": "code",
   "execution_count": 65,
   "metadata": {},
   "outputs": [],
   "source": [
    "i = 100\n",
    "gvec = np.linspace(0.4,0.6,i)\n",
    "gnd = np.zeros(i)\n",
    "e1 = np.zeros(i)"
   ]
  },
  {
   "cell_type": "code",
   "execution_count": 66,
   "metadata": {},
   "outputs": [
    {
     "name": "stderr",
     "output_type": "stream",
     "text": [
      "100%|████████████████████████████████████████████████████████████████████████████████| 100/100 [01:02<00:00,  1.59it/s]\n"
     ]
    }
   ],
   "source": [
    "j = 0\n",
    "for g in tqdm(gvec):\n",
    "    Hc = H0 + g * Hint\n",
    "    evals, ekets = Hc.eigenstates()\n",
    "    gnd[j] = evals[0]\n",
    "    e1[j] = evals[1]\n",
    "    j += 1"
   ]
  },
  {
   "cell_type": "code",
   "execution_count": 67,
   "metadata": {},
   "outputs": [
    {
     "data": {
      "text/plain": [
       "<matplotlib.lines.Line2D at 0x17678af3c70>"
      ]
     },
     "execution_count": 67,
     "metadata": {},
     "output_type": "execute_result"
    },
    {
     "data": {
      "image/png": "[encoded data removed]",
      "text/plain": [
       "<Figure size 432x288 with 1 Axes>"
      ]
     },
     "metadata": {
      "needs_background": "light"
     },
     "output_type": "display_data"
    }
   ],
   "source": [
    "fig1 = plt.figure()\n",
    "\n",
    "plt.plot(gvec, gnd, '-' ,label = \"gs\")\n",
    "plt.plot(gvec, e1, '-' ,label = \"e1\")\n",
    "#plt.plot(gvec, delta, '-', label = \".\")\n",
    "plt.ylabel(r'$Energy$', fontsize = 25)\n",
    "plt.xlabel('$g$', fontsize = 25)\n",
    "plt.legend(fontsize = 20)\n",
    "plt.ylim((-5,5))\n",
    "plt.axvline(x=gc, color = 'black')"
   ]
  },
  {
   "cell_type": "code",
   "execution_count": 53,
   "metadata": {},
   "outputs": [],
   "source": [
    "dy = diff(gnd)\n",
    "dx = diff(gvec)\n",
    "f1 = dy/dx\n",
    "gvec1 = np.linspace(0,1,99)\n",
    "f2 = -diff(f1)/diff(gvec1)\n",
    "gvec2 = np.linspace(0,1,98)"
   ]
  },
  {
   "cell_type": "code",
   "execution_count": 70,
   "metadata": {},
   "outputs": [
    {
     "data": {
      "text/plain": [
       "<matplotlib.lines.Line2D at 0x17678e8ad90>"
      ]
     },
     "execution_count": 70,
     "metadata": {},
     "output_type": "execute_result"
    },
    {
     "data": {
      "image/png": "[encoded data removed]",
      "text/plain": [
       "<Figure size 432x288 with 1 Axes>"
      ]
     },
     "metadata": {
      "needs_background": "light"
     },
     "output_type": "display_data"
    }
   ],
   "source": [
    "plt.plot(gvec2, f2, '-' ,label = \"n = 30, $\\delta = 0.01$ \")\n",
    "plt.ylabel(r'$\\chi(\\theta)$', fontsize = 25)\n",
    "plt.xlabel(r'$\\theta$', fontsize = 25)\n",
    "plt.legend(fontsize = 20)\n",
    "plt.axvline(x=gc, color = 'black')"
   ]
  },
  {
   "cell_type": "code",
   "execution_count": null,
   "metadata": {},
   "outputs": [],
   "source": []
  },
  {
   "cell_type": "code",
   "execution_count": null,
   "metadata": {},
   "outputs": [],
   "source": []
  }
 ],
 "metadata": {
  "kernelspec": {
   "display_name": "Python 3",
   "language": "python",
   "name": "python3"
  },
  "language_info": {
   "codemirror_mode": {
    "name": "ipython",
    "version": 3
   },
   "file_extension": ".py",
   "mimetype": "text/x-python",
   "name": "python",
   "nbconvert_exporter": "python",
   "pygments_lexer": "ipython3",
   "version": "3.9.2"
  },
  "widgets": {
   "application/vnd.jupyter.widget-state+json": {
    "state": {},
    "version_major": 2,
    "version_minor": 0
   }
  }
 },
 "nbformat": 4,
 "nbformat_minor": 4
}
